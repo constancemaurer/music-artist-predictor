{
 "cells": [
  {
   "cell_type": "markdown",
   "metadata": {},
   "source": [
    "# Feature Engineering"
   ]
  },
  {
   "cell_type": "markdown",
   "metadata": {},
   "source": [
    "Features engineered in this notebook from the lyrics column:\n",
    "\n",
    "* Number of sentences (n_sentences)\n",
    "\n",
    "* Word count (word_count)\n",
    "\n",
    "* Character count (character_count)\n",
    "\n",
    "* Number of syllables (n_syllables)\n",
    "\n",
    "* Unique word count (unique_word_count)\n",
    "\n",
    "* Number of long words (n_long_words)\n",
    "\n",
    "* Number of monosyllable words (n_monosyllable_words)\n",
    "\n",
    "* Number of polysyllable words (n_polysyllable_words)\n",
    "\n",
    "* Vader compound score/Valence (vader_compound)\n",
    "\n",
    "* Vader negative score (vader_neg)\n",
    "\n",
    "* Vader neutral score (vader_neu)\n",
    "\n",
    "* Vader positive score (vader_pos)\n",
    "\n",
    "* Objectivity score (objectivity_score)\n",
    "\n",
    "* Positive versus negative score (pos_vs_neg)\n"
   ]
  },
  {
   "cell_type": "markdown",
   "metadata": {},
   "source": [
    "The lyrics column that will be used for sentiment analysis and NLP will have to be processed from its RAW state to eligble version to be processed by textacy and other NLP packages.\n",
    "\n",
    "\n",
    "These are some of the cleaning steps which I included in most of my functions:\n",
    "\n",
    "\n",
    "* Removing elements such as [Chorus] or [Intro] added by the Lyrics Genius Website.\n",
    "\n",
    "* Tokenization\n",
    "\n",
    "* Conversion to lowercase\n",
    "\n",
    "* Lemmatization\n",
    "\n",
    "* Parsing"
   ]
  },
  {
   "cell_type": "markdown",
   "metadata": {
    "toc": true
   },
   "source": [
    "<h1>Table of Contents<span class=\"tocSkip\"></span></h1>\n",
    "<div class=\"toc\"><ul class=\"toc-item\"><li><span><a href=\"#Imports\" data-toc-modified-id=\"Imports-1\"><span class=\"toc-item-num\">1&nbsp;&nbsp;</span>Imports</a></span></li><li><span><a href=\"#Sentiment-Features-with-Textacy\" data-toc-modified-id=\"Sentiment-Features-with-Textacy-2\"><span class=\"toc-item-num\">2&nbsp;&nbsp;</span>Sentiment Features with Textacy</a></span><ul class=\"toc-item\"><li><span><a href=\"#Functions\" data-toc-modified-id=\"Functions-2.1\"><span class=\"toc-item-num\">2.1&nbsp;&nbsp;</span>Functions</a></span></li></ul></li><li><span><a href=\"#Lexical-Diversity-Feature-Engineering\" data-toc-modified-id=\"Lexical-Diversity-Feature-Engineering-3\"><span class=\"toc-item-num\">3&nbsp;&nbsp;</span>Lexical Diversity Feature Engineering</a></span><ul class=\"toc-item\"><li><span><a href=\"#Functions\" data-toc-modified-id=\"Functions-3.1\"><span class=\"toc-item-num\">3.1&nbsp;&nbsp;</span>Functions</a></span></li></ul></li></ul></div>"
   ]
  },
  {
   "cell_type": "markdown",
   "metadata": {},
   "source": [
    "## Imports"
   ]
  },
  {
   "cell_type": "markdown",
   "metadata": {},
   "source": [
    "**Basics**"
   ]
  },
  {
   "cell_type": "code",
   "execution_count": 1,
   "metadata": {},
   "outputs": [],
   "source": [
    "import numpy as np\n",
    "import pandas as pd\n",
    "import re"
   ]
  },
  {
   "cell_type": "markdown",
   "metadata": {},
   "source": [
    "**Sentiment Feature Creation**\n",
    "\n",
    "\n",
    "! Only run textacy amd vaderSentiment when Kernel is set to **textacy** !"
   ]
  },
  {
   "cell_type": "code",
   "execution_count": 2,
   "metadata": {},
   "outputs": [],
   "source": [
    "import textacy"
   ]
  },
  {
   "cell_type": "code",
   "execution_count": 3,
   "metadata": {},
   "outputs": [],
   "source": [
    "from vaderSentiment.vaderSentiment import SentimentIntensityAnalyzer\n",
    "from sklearn.feature_extraction import DictVectorizer"
   ]
  },
  {
   "cell_type": "markdown",
   "metadata": {},
   "source": [
    "**Lexical Diversity**"
   ]
  },
  {
   "cell_type": "markdown",
   "metadata": {},
   "source": [
    "In command line/bash:\n",
    "\n",
    "```pip install lexical-diversity```"
   ]
  },
  {
   "cell_type": "code",
   "execution_count": 2,
   "metadata": {},
   "outputs": [],
   "source": [
    "from lexical_diversity import lex_div as ld"
   ]
  },
  {
   "cell_type": "markdown",
   "metadata": {},
   "source": [
    "## Sentiment Features with Textacy"
   ]
  },
  {
   "cell_type": "markdown",
   "metadata": {},
   "source": [
    "### Functions"
   ]
  },
  {
   "cell_type": "code",
   "execution_count": 7,
   "metadata": {},
   "outputs": [],
   "source": [
    "en_nlp = textacy.load_spacy_lang('en_core_web_sm')"
   ]
  },
  {
   "cell_type": "code",
   "execution_count": 5,
   "metadata": {},
   "outputs": [],
   "source": [
    "def textacy_stats(column):\n",
    "    '''\n",
    "    \n",
    "    '''\n",
    "    en_nlp = textacy.load_spacy_lang('en_core_web_sm')\n",
    "\n",
    "    #Lists of textacy statistics which can be added to dataframe as columns.\n",
    "    n_sentences = []\n",
    "    word_count = []\n",
    "    character_count = []\n",
    "    n_syllables = []\n",
    "    unique_word_count = []\n",
    "    n_long_words = []\n",
    "    n_monosyllable_words = []\n",
    "    n_polysyllable_words = []\n",
    "\n",
    "    automated_readability_index = []\n",
    "    coleman_liau_index = []\n",
    "    flesch_kincaid_grade_level = []\n",
    "    flesch_reading_ease = []\n",
    "    gulpease_index = []\n",
    "    gunning_fog_index = []\n",
    "    lix = []\n",
    "    smog_index = []\n",
    "    wiener_sachtextformel = []\n",
    "\n",
    "    for item in column:\n",
    "        # Cleans the lyrics from unwanted elements.\n",
    "        item = re.sub(\"[\\[].*?[\\]]\", \"\", item)\n",
    "        item = item.replace('\\n', ' ')\n",
    "        item = item.replace('\\\\', '')\n",
    "        item = re.sub(\"[\\(\\)]\", \"\", item)\n",
    "        item = item.replace('  ', ' ')\n",
    "\n",
    "        #Produces tokenized lyrics and produces statistics in the ts object.\n",
    "        parsed = textacy.make_spacy_doc(item, lang=en_nlp)\n",
    "        parsed._.to_tokenized_text()\n",
    "        ts = textacy.TextStats(parsed)\n",
    "\n",
    "        n_sentences.append(ts.basic_counts['n_sents'])\n",
    "        word_count.append(ts.basic_counts['n_words'])\n",
    "        character_count.append(ts.basic_counts['n_chars'])\n",
    "        n_syllables.append(ts.basic_counts['n_syllables'])\n",
    "        unique_word_count.append(ts.basic_counts['n_unique_words'])\n",
    "        n_long_words.append(ts.basic_counts['n_long_words'])\n",
    "        n_monosyllable_words.append(ts.basic_counts['n_monosyllable_words'])\n",
    "        n_polysyllable_words.append(ts.basic_counts['n_polysyllable_words'])\n",
    "\n",
    "        #automated_readability_index.append(ts.readability_stats['automated_readability_index'])\n",
    "        #coleman_liau_index.append(ts.readability_stats['coleman_liau_index'])\n",
    "        #flesch_kincaid_grade_level.append(ts.readability_stats['flesch_kincaid_grade_level'])\n",
    "        #flesch_reading_ease.append(ts.readability_stats['flesch_reading_ease'])\n",
    "        #gulpease_index.append(ts.readability_stats['gulpease_index'])\n",
    "        #gunning_fog_index.append(ts.readability_stats['gunning_fog_index'])\n",
    "        #lix.append(ts.readability_stats['lix'])\n",
    "        #smog_index.append(ts.readability_stats['smog_index'])\n",
    "        #wiener_sachtextformel.append(ts.readability_stats['wiener_sachtextformel'])\n",
    "\n",
    "    return n_sentences, word_count, character_count, n_syllables, unique_word_count, n_long_words, n_monosyllable_words, n_polysyllable_words  #, automated_readability_index, coleman_liau_index, flesch_kincaid_grade_level, flesch_reading_ease, gulpease_index, gunning_fog_index, lix, smog_index, wiener_sachtextformel"
   ]
  },
  {
   "cell_type": "code",
   "execution_count": 6,
   "metadata": {},
   "outputs": [],
   "source": [
    "def processing(column):\n",
    "    \"\"\"\n",
    "    This function accepts a text column as an argument,\n",
    "    cleans each cell's text from its unwanted elements (keeping punctuation and apostrophes),\n",
    "    converts it to lowercase and appends each string text to a list.\n",
    "    The function returns this list.\n",
    "    \"\"\"\n",
    "    lyrics = []\n",
    "\n",
    "    for x in column:\n",
    "        x = re.sub(\"[\\[].*?[\\]]\", \"\", x)\n",
    "        x = x.replace('\\n', ' ')\n",
    "        x = x.replace('\\\\', '')\n",
    "        x = re.sub(\"[\\(\\)]\", \"\", x)\n",
    "        #x = re.sub(\"[\\!\\.\\,\\?]\", \" \", x)\n",
    "        #x = re.sub(\"[\\']\", \"\", x)\n",
    "        x = x.replace('  ', ' ')\n",
    "        x = x.lower()\n",
    "\n",
    "        lyrics.append(x)\n",
    "\n",
    "    return lyrics"
   ]
  },
  {
   "cell_type": "markdown",
   "metadata": {},
   "source": [
    "Conducted in the ```textacy``` environment. Please set kernel to ```textacy```."
   ]
  },
  {
   "cell_type": "code",
   "execution_count": 7,
   "metadata": {},
   "outputs": [],
   "source": [
    "data = pd.read_csv(\"../../../../../../project-capstone/personal-github/Resources/artist_predictor_RAW.csv\")"
   ]
  },
  {
   "cell_type": "code",
   "execution_count": 8,
   "metadata": {},
   "outputs": [
    {
     "data": {
      "text/html": [
       "<div>\n",
       "<style scoped>\n",
       "    .dataframe tbody tr th:only-of-type {\n",
       "        vertical-align: middle;\n",
       "    }\n",
       "\n",
       "    .dataframe tbody tr th {\n",
       "        vertical-align: top;\n",
       "    }\n",
       "\n",
       "    .dataframe thead th {\n",
       "        text-align: right;\n",
       "    }\n",
       "</style>\n",
       "<table border=\"1\" class=\"dataframe\">\n",
       "  <thead>\n",
       "    <tr style=\"text-align: right;\">\n",
       "      <th></th>\n",
       "      <th>track_name</th>\n",
       "      <th>artist_name</th>\n",
       "      <th>release_year</th>\n",
       "      <th>spotify_uri</th>\n",
       "      <th>lyrics</th>\n",
       "      <th>genre</th>\n",
       "      <th>track_id</th>\n",
       "      <th>popularity</th>\n",
       "      <th>acousticness</th>\n",
       "      <th>danceability</th>\n",
       "      <th>...</th>\n",
       "      <th>energy</th>\n",
       "      <th>instrumentalness</th>\n",
       "      <th>key</th>\n",
       "      <th>liveness</th>\n",
       "      <th>loudness</th>\n",
       "      <th>mode</th>\n",
       "      <th>speechiness</th>\n",
       "      <th>tempo</th>\n",
       "      <th>time_signature</th>\n",
       "      <th>valence</th>\n",
       "    </tr>\n",
       "  </thead>\n",
       "  <tbody>\n",
       "    <tr>\n",
       "      <th>0</th>\n",
       "      <td>Canal St.</td>\n",
       "      <td>A$AP Rocky</td>\n",
       "      <td>2015-05-26</td>\n",
       "      <td>spotify:track:0rBMP6VVGRgwnzZCLpijyl</td>\n",
       "      <td>[Produced by Hector Delgado, Frans Mernick, an...</td>\n",
       "      <td>Hip-Hop</td>\n",
       "      <td>0rBMP6VVGRgwnzZCLpijyl</td>\n",
       "      <td>68.0</td>\n",
       "      <td>0.308</td>\n",
       "      <td>0.696</td>\n",
       "      <td>...</td>\n",
       "      <td>0.583</td>\n",
       "      <td>0.000000</td>\n",
       "      <td>D#</td>\n",
       "      <td>0.0964</td>\n",
       "      <td>-9.351</td>\n",
       "      <td>Minor</td>\n",
       "      <td>0.301</td>\n",
       "      <td>137.079</td>\n",
       "      <td>4/4</td>\n",
       "      <td>0.5240</td>\n",
       "    </tr>\n",
       "    <tr>\n",
       "      <th>1</th>\n",
       "      <td>Brotha Man</td>\n",
       "      <td>A$AP Rocky</td>\n",
       "      <td>2018-05-25</td>\n",
       "      <td>NaN</td>\n",
       "      <td>[Verse 1: A$AP Rocky]\\nYoung man, brotha broth...</td>\n",
       "      <td>Hip-Hop</td>\n",
       "      <td>6MmtDonkpvSoRx9ACwrGDu</td>\n",
       "      <td>60.0</td>\n",
       "      <td>0.520</td>\n",
       "      <td>0.573</td>\n",
       "      <td>...</td>\n",
       "      <td>0.398</td>\n",
       "      <td>0.000000</td>\n",
       "      <td>F</td>\n",
       "      <td>0.1130</td>\n",
       "      <td>-9.372</td>\n",
       "      <td>Minor</td>\n",
       "      <td>0.114</td>\n",
       "      <td>124.073</td>\n",
       "      <td>5/4</td>\n",
       "      <td>0.4360</td>\n",
       "    </tr>\n",
       "    <tr>\n",
       "      <th>2</th>\n",
       "      <td>LVL</td>\n",
       "      <td>A$AP Rocky</td>\n",
       "      <td>2013-01-15</td>\n",
       "      <td>spotify:track:4dz4nfY5LeFUR99uspA5e6</td>\n",
       "      <td>[Produced by Clams Casino]\\n\\n[Intro: A$AP Roc...</td>\n",
       "      <td>Hip-Hop</td>\n",
       "      <td>787rCZF9i4L1cXGMkdyIk4</td>\n",
       "      <td>59.0</td>\n",
       "      <td>0.180</td>\n",
       "      <td>0.595</td>\n",
       "      <td>...</td>\n",
       "      <td>0.427</td>\n",
       "      <td>0.000013</td>\n",
       "      <td>F</td>\n",
       "      <td>0.1210</td>\n",
       "      <td>-6.764</td>\n",
       "      <td>Minor</td>\n",
       "      <td>0.054</td>\n",
       "      <td>120.085</td>\n",
       "      <td>4/4</td>\n",
       "      <td>0.0994</td>\n",
       "    </tr>\n",
       "    <tr>\n",
       "      <th>3</th>\n",
       "      <td>Holy Ghost</td>\n",
       "      <td>A$AP Rocky</td>\n",
       "      <td>2015-05-26</td>\n",
       "      <td>spotify:track:6AHNkRbVzkh95xilnYzDT7</td>\n",
       "      <td>[Produced by Danger Mouse, additional producti...</td>\n",
       "      <td>Hip-Hop</td>\n",
       "      <td>6AHNkRbVzkh95xilnYzDT7</td>\n",
       "      <td>59.0</td>\n",
       "      <td>0.127</td>\n",
       "      <td>0.545</td>\n",
       "      <td>...</td>\n",
       "      <td>0.779</td>\n",
       "      <td>0.000000</td>\n",
       "      <td>A#</td>\n",
       "      <td>0.3490</td>\n",
       "      <td>-6.513</td>\n",
       "      <td>Minor</td>\n",
       "      <td>0.190</td>\n",
       "      <td>75.844</td>\n",
       "      <td>4/4</td>\n",
       "      <td>0.3250</td>\n",
       "    </tr>\n",
       "    <tr>\n",
       "      <th>4</th>\n",
       "      <td>Fashion Killa</td>\n",
       "      <td>A$AP Rocky</td>\n",
       "      <td>2013-01-15</td>\n",
       "      <td>spotify:track:40H5libEZWrbkc8HTlXGbt</td>\n",
       "      <td>[Chorus]\\nHer pistol go…\\n(Doot-doot-doot, ban...</td>\n",
       "      <td>Hip-Hop</td>\n",
       "      <td>0O3TAouZE4vL9dM5SyxgvH</td>\n",
       "      <td>65.0</td>\n",
       "      <td>0.293</td>\n",
       "      <td>0.802</td>\n",
       "      <td>...</td>\n",
       "      <td>0.820</td>\n",
       "      <td>0.000000</td>\n",
       "      <td>B</td>\n",
       "      <td>0.5150</td>\n",
       "      <td>-5.188</td>\n",
       "      <td>Major</td>\n",
       "      <td>0.154</td>\n",
       "      <td>139.972</td>\n",
       "      <td>4/4</td>\n",
       "      <td>0.8100</td>\n",
       "    </tr>\n",
       "  </tbody>\n",
       "</table>\n",
       "<p>5 rows × 21 columns</p>\n",
       "</div>"
      ],
      "text/plain": [
       "      track_name artist_name release_year  \\\n",
       "0      Canal St.  A$AP Rocky   2015-05-26   \n",
       "1     Brotha Man  A$AP Rocky   2018-05-25   \n",
       "2            LVL  A$AP Rocky   2013-01-15   \n",
       "3     Holy Ghost  A$AP Rocky   2015-05-26   \n",
       "4  Fashion Killa  A$AP Rocky   2013-01-15   \n",
       "\n",
       "                            spotify_uri  \\\n",
       "0  spotify:track:0rBMP6VVGRgwnzZCLpijyl   \n",
       "1                                   NaN   \n",
       "2  spotify:track:4dz4nfY5LeFUR99uspA5e6   \n",
       "3  spotify:track:6AHNkRbVzkh95xilnYzDT7   \n",
       "4  spotify:track:40H5libEZWrbkc8HTlXGbt   \n",
       "\n",
       "                                              lyrics    genre  \\\n",
       "0  [Produced by Hector Delgado, Frans Mernick, an...  Hip-Hop   \n",
       "1  [Verse 1: A$AP Rocky]\\nYoung man, brotha broth...  Hip-Hop   \n",
       "2  [Produced by Clams Casino]\\n\\n[Intro: A$AP Roc...  Hip-Hop   \n",
       "3  [Produced by Danger Mouse, additional producti...  Hip-Hop   \n",
       "4  [Chorus]\\nHer pistol go…\\n(Doot-doot-doot, ban...  Hip-Hop   \n",
       "\n",
       "                 track_id  popularity  acousticness  danceability  ...  \\\n",
       "0  0rBMP6VVGRgwnzZCLpijyl        68.0         0.308         0.696  ...   \n",
       "1  6MmtDonkpvSoRx9ACwrGDu        60.0         0.520         0.573  ...   \n",
       "2  787rCZF9i4L1cXGMkdyIk4        59.0         0.180         0.595  ...   \n",
       "3  6AHNkRbVzkh95xilnYzDT7        59.0         0.127         0.545  ...   \n",
       "4  0O3TAouZE4vL9dM5SyxgvH        65.0         0.293         0.802  ...   \n",
       "\n",
       "   energy  instrumentalness  key liveness  loudness   mode speechiness  \\\n",
       "0   0.583          0.000000   D#   0.0964    -9.351  Minor       0.301   \n",
       "1   0.398          0.000000    F   0.1130    -9.372  Minor       0.114   \n",
       "2   0.427          0.000013    F   0.1210    -6.764  Minor       0.054   \n",
       "3   0.779          0.000000   A#   0.3490    -6.513  Minor       0.190   \n",
       "4   0.820          0.000000    B   0.5150    -5.188  Major       0.154   \n",
       "\n",
       "     tempo  time_signature valence  \n",
       "0  137.079             4/4  0.5240  \n",
       "1  124.073             5/4  0.4360  \n",
       "2  120.085             4/4  0.0994  \n",
       "3   75.844             4/4  0.3250  \n",
       "4  139.972             4/4  0.8100  \n",
       "\n",
       "[5 rows x 21 columns]"
      ]
     },
     "execution_count": 8,
     "metadata": {},
     "output_type": "execute_result"
    }
   ],
   "source": [
    "data.head()"
   ]
  },
  {
   "cell_type": "code",
   "execution_count": 9,
   "metadata": {},
   "outputs": [],
   "source": [
    "n_sentences, word_count, character_count, n_syllables, unique_word_count, n_long_words, n_monosyllable_words, n_polysyllable_words = textacy_stats(data.lyrics)"
   ]
  },
  {
   "cell_type": "code",
   "execution_count": 10,
   "metadata": {},
   "outputs": [
    {
     "data": {
      "text/html": [
       "<div>\n",
       "<style scoped>\n",
       "    .dataframe tbody tr th:only-of-type {\n",
       "        vertical-align: middle;\n",
       "    }\n",
       "\n",
       "    .dataframe tbody tr th {\n",
       "        vertical-align: top;\n",
       "    }\n",
       "\n",
       "    .dataframe thead th {\n",
       "        text-align: right;\n",
       "    }\n",
       "</style>\n",
       "<table border=\"1\" class=\"dataframe\">\n",
       "  <thead>\n",
       "    <tr style=\"text-align: right;\">\n",
       "      <th></th>\n",
       "      <th>track_name</th>\n",
       "      <th>artist_name</th>\n",
       "      <th>release_year</th>\n",
       "      <th>spotify_uri</th>\n",
       "      <th>lyrics</th>\n",
       "      <th>genre</th>\n",
       "      <th>track_id</th>\n",
       "      <th>popularity</th>\n",
       "      <th>acousticness</th>\n",
       "      <th>danceability</th>\n",
       "      <th>...</th>\n",
       "      <th>time_signature</th>\n",
       "      <th>valence</th>\n",
       "      <th>n_sentences</th>\n",
       "      <th>word_count</th>\n",
       "      <th>character_count</th>\n",
       "      <th>n_syllables</th>\n",
       "      <th>unique_word_count</th>\n",
       "      <th>n_long_words</th>\n",
       "      <th>n_monosyllable_words</th>\n",
       "      <th>n_polysyllable_words</th>\n",
       "    </tr>\n",
       "  </thead>\n",
       "  <tbody>\n",
       "    <tr>\n",
       "      <th>0</th>\n",
       "      <td>Canal St.</td>\n",
       "      <td>A$AP Rocky</td>\n",
       "      <td>2015-05-26</td>\n",
       "      <td>spotify:track:0rBMP6VVGRgwnzZCLpijyl</td>\n",
       "      <td>[Produced by Hector Delgado, Frans Mernick, an...</td>\n",
       "      <td>Hip-Hop</td>\n",
       "      <td>0rBMP6VVGRgwnzZCLpijyl</td>\n",
       "      <td>68.0</td>\n",
       "      <td>0.308</td>\n",
       "      <td>0.696</td>\n",
       "      <td>...</td>\n",
       "      <td>4/4</td>\n",
       "      <td>0.5240</td>\n",
       "      <td>54</td>\n",
       "      <td>628</td>\n",
       "      <td>2354</td>\n",
       "      <td>721</td>\n",
       "      <td>249</td>\n",
       "      <td>39</td>\n",
       "      <td>542</td>\n",
       "      <td>7</td>\n",
       "    </tr>\n",
       "    <tr>\n",
       "      <th>1</th>\n",
       "      <td>Brotha Man</td>\n",
       "      <td>A$AP Rocky</td>\n",
       "      <td>2018-05-25</td>\n",
       "      <td>NaN</td>\n",
       "      <td>[Verse 1: A$AP Rocky]\\nYoung man, brotha broth...</td>\n",
       "      <td>Hip-Hop</td>\n",
       "      <td>6MmtDonkpvSoRx9ACwrGDu</td>\n",
       "      <td>60.0</td>\n",
       "      <td>0.520</td>\n",
       "      <td>0.573</td>\n",
       "      <td>...</td>\n",
       "      <td>5/4</td>\n",
       "      <td>0.4360</td>\n",
       "      <td>54</td>\n",
       "      <td>519</td>\n",
       "      <td>2039</td>\n",
       "      <td>595</td>\n",
       "      <td>232</td>\n",
       "      <td>44</td>\n",
       "      <td>454</td>\n",
       "      <td>11</td>\n",
       "    </tr>\n",
       "    <tr>\n",
       "      <th>2</th>\n",
       "      <td>LVL</td>\n",
       "      <td>A$AP Rocky</td>\n",
       "      <td>2013-01-15</td>\n",
       "      <td>spotify:track:4dz4nfY5LeFUR99uspA5e6</td>\n",
       "      <td>[Produced by Clams Casino]\\n\\n[Intro: A$AP Roc...</td>\n",
       "      <td>Hip-Hop</td>\n",
       "      <td>787rCZF9i4L1cXGMkdyIk4</td>\n",
       "      <td>59.0</td>\n",
       "      <td>0.180</td>\n",
       "      <td>0.595</td>\n",
       "      <td>...</td>\n",
       "      <td>4/4</td>\n",
       "      <td>0.0994</td>\n",
       "      <td>42</td>\n",
       "      <td>397</td>\n",
       "      <td>1497</td>\n",
       "      <td>465</td>\n",
       "      <td>188</td>\n",
       "      <td>23</td>\n",
       "      <td>341</td>\n",
       "      <td>7</td>\n",
       "    </tr>\n",
       "    <tr>\n",
       "      <th>3</th>\n",
       "      <td>Holy Ghost</td>\n",
       "      <td>A$AP Rocky</td>\n",
       "      <td>2015-05-26</td>\n",
       "      <td>spotify:track:6AHNkRbVzkh95xilnYzDT7</td>\n",
       "      <td>[Produced by Danger Mouse, additional producti...</td>\n",
       "      <td>Hip-Hop</td>\n",
       "      <td>6AHNkRbVzkh95xilnYzDT7</td>\n",
       "      <td>59.0</td>\n",
       "      <td>0.127</td>\n",
       "      <td>0.545</td>\n",
       "      <td>...</td>\n",
       "      <td>4/4</td>\n",
       "      <td>0.3250</td>\n",
       "      <td>32</td>\n",
       "      <td>430</td>\n",
       "      <td>1666</td>\n",
       "      <td>507</td>\n",
       "      <td>215</td>\n",
       "      <td>28</td>\n",
       "      <td>364</td>\n",
       "      <td>10</td>\n",
       "    </tr>\n",
       "    <tr>\n",
       "      <th>4</th>\n",
       "      <td>Fashion Killa</td>\n",
       "      <td>A$AP Rocky</td>\n",
       "      <td>2013-01-15</td>\n",
       "      <td>spotify:track:40H5libEZWrbkc8HTlXGbt</td>\n",
       "      <td>[Chorus]\\nHer pistol go…\\n(Doot-doot-doot, ban...</td>\n",
       "      <td>Hip-Hop</td>\n",
       "      <td>0O3TAouZE4vL9dM5SyxgvH</td>\n",
       "      <td>65.0</td>\n",
       "      <td>0.293</td>\n",
       "      <td>0.802</td>\n",
       "      <td>...</td>\n",
       "      <td>4/4</td>\n",
       "      <td>0.8100</td>\n",
       "      <td>147</td>\n",
       "      <td>745</td>\n",
       "      <td>2867</td>\n",
       "      <td>881</td>\n",
       "      <td>201</td>\n",
       "      <td>54</td>\n",
       "      <td>624</td>\n",
       "      <td>13</td>\n",
       "    </tr>\n",
       "  </tbody>\n",
       "</table>\n",
       "<p>5 rows × 29 columns</p>\n",
       "</div>"
      ],
      "text/plain": [
       "      track_name artist_name release_year  \\\n",
       "0      Canal St.  A$AP Rocky   2015-05-26   \n",
       "1     Brotha Man  A$AP Rocky   2018-05-25   \n",
       "2            LVL  A$AP Rocky   2013-01-15   \n",
       "3     Holy Ghost  A$AP Rocky   2015-05-26   \n",
       "4  Fashion Killa  A$AP Rocky   2013-01-15   \n",
       "\n",
       "                            spotify_uri  \\\n",
       "0  spotify:track:0rBMP6VVGRgwnzZCLpijyl   \n",
       "1                                   NaN   \n",
       "2  spotify:track:4dz4nfY5LeFUR99uspA5e6   \n",
       "3  spotify:track:6AHNkRbVzkh95xilnYzDT7   \n",
       "4  spotify:track:40H5libEZWrbkc8HTlXGbt   \n",
       "\n",
       "                                              lyrics    genre  \\\n",
       "0  [Produced by Hector Delgado, Frans Mernick, an...  Hip-Hop   \n",
       "1  [Verse 1: A$AP Rocky]\\nYoung man, brotha broth...  Hip-Hop   \n",
       "2  [Produced by Clams Casino]\\n\\n[Intro: A$AP Roc...  Hip-Hop   \n",
       "3  [Produced by Danger Mouse, additional producti...  Hip-Hop   \n",
       "4  [Chorus]\\nHer pistol go…\\n(Doot-doot-doot, ban...  Hip-Hop   \n",
       "\n",
       "                 track_id  popularity  acousticness  danceability  ...  \\\n",
       "0  0rBMP6VVGRgwnzZCLpijyl        68.0         0.308         0.696  ...   \n",
       "1  6MmtDonkpvSoRx9ACwrGDu        60.0         0.520         0.573  ...   \n",
       "2  787rCZF9i4L1cXGMkdyIk4        59.0         0.180         0.595  ...   \n",
       "3  6AHNkRbVzkh95xilnYzDT7        59.0         0.127         0.545  ...   \n",
       "4  0O3TAouZE4vL9dM5SyxgvH        65.0         0.293         0.802  ...   \n",
       "\n",
       "   time_signature  valence  n_sentences word_count  character_count  \\\n",
       "0             4/4   0.5240           54        628             2354   \n",
       "1             5/4   0.4360           54        519             2039   \n",
       "2             4/4   0.0994           42        397             1497   \n",
       "3             4/4   0.3250           32        430             1666   \n",
       "4             4/4   0.8100          147        745             2867   \n",
       "\n",
       "   n_syllables unique_word_count  n_long_words  n_monosyllable_words  \\\n",
       "0          721               249            39                   542   \n",
       "1          595               232            44                   454   \n",
       "2          465               188            23                   341   \n",
       "3          507               215            28                   364   \n",
       "4          881               201            54                   624   \n",
       "\n",
       "  n_polysyllable_words  \n",
       "0                    7  \n",
       "1                   11  \n",
       "2                    7  \n",
       "3                   10  \n",
       "4                   13  \n",
       "\n",
       "[5 rows x 29 columns]"
      ]
     },
     "execution_count": 10,
     "metadata": {},
     "output_type": "execute_result"
    }
   ],
   "source": [
    "data['n_sentences'] = n_sentences\n",
    "data['word_count'] = word_count\n",
    "data['character_count'] = character_count\n",
    "data['n_syllables'] = n_syllables\n",
    "data['unique_word_count'] = unique_word_count\n",
    "data['n_long_words'] = n_long_words\n",
    "data['n_monosyllable_words'] = n_monosyllable_words\n",
    "data['n_polysyllable_words'] = n_polysyllable_words\n",
    "data.head()"
   ]
  },
  {
   "cell_type": "markdown",
   "metadata": {},
   "source": [
    "**VADER**"
   ]
  },
  {
   "cell_type": "code",
   "execution_count": 11,
   "metadata": {},
   "outputs": [],
   "source": [
    "analyzer = SentimentIntensityAnalyzer()"
   ]
  },
  {
   "cell_type": "code",
   "execution_count": 12,
   "metadata": {},
   "outputs": [],
   "source": [
    "data['lyrics_processed'] = processing(data.lyrics)"
   ]
  },
  {
   "cell_type": "code",
   "execution_count": 13,
   "metadata": {},
   "outputs": [],
   "source": [
    "vader_scores = data.lyrics_processed.map(analyzer.polarity_scores)"
   ]
  },
  {
   "cell_type": "code",
   "execution_count": 14,
   "metadata": {},
   "outputs": [
    {
     "data": {
      "text/plain": [
       "0    {'neg': 0.11, 'neu': 0.792, 'pos': 0.098, 'com...\n",
       "1    {'neg': 0.091, 'neu': 0.747, 'pos': 0.162, 'co...\n",
       "2    {'neg': 0.183, 'neu': 0.701, 'pos': 0.116, 'co...\n",
       "3    {'neg': 0.128, 'neu': 0.778, 'pos': 0.094, 'co...\n",
       "4    {'neg': 0.072, 'neu': 0.807, 'pos': 0.121, 'co...\n",
       "Name: lyrics_processed, dtype: object"
      ]
     },
     "execution_count": 14,
     "metadata": {},
     "output_type": "execute_result"
    }
   ],
   "source": [
    "vader_scores.head()"
   ]
  },
  {
   "cell_type": "code",
   "execution_count": 15,
   "metadata": {},
   "outputs": [
    {
     "data": {
      "text/plain": [
       "<1688x4 sparse matrix of type '<class 'numpy.float64'>'\n",
       "\twith 6752 stored elements in Compressed Sparse Row format>"
      ]
     },
     "execution_count": 15,
     "metadata": {},
     "output_type": "execute_result"
    }
   ],
   "source": [
    "dvec = DictVectorizer()\n",
    "\n",
    "vader_scores = dvec.fit_transform(vader_scores)\n",
    "vader_scores"
   ]
  },
  {
   "cell_type": "code",
   "execution_count": 16,
   "metadata": {},
   "outputs": [
    {
     "data": {
      "text/plain": [
       "['compound', 'neg', 'neu', 'pos']"
      ]
     },
     "execution_count": 16,
     "metadata": {},
     "output_type": "execute_result"
    }
   ],
   "source": [
    "dvec.feature_names_"
   ]
  },
  {
   "cell_type": "code",
   "execution_count": 17,
   "metadata": {},
   "outputs": [],
   "source": [
    "for i, col in enumerate(dvec.feature_names_):\n",
    "    data['vader_{}'.format(col)] = vader_scores[:, i].toarray().ravel()"
   ]
  },
  {
   "cell_type": "markdown",
   "metadata": {},
   "source": [
    "```\n",
    "objectivity = 1. - (pos_score + neg_score)\n",
    "pos_vs_neg = pos_score - neg_score```"
   ]
  },
  {
   "cell_type": "code",
   "execution_count": 18,
   "metadata": {},
   "outputs": [],
   "source": [
    "data['objectivity_score'] = 1.0 -(data.vader_pos - data.vader_neg)"
   ]
  },
  {
   "cell_type": "code",
   "execution_count": 19,
   "metadata": {},
   "outputs": [],
   "source": [
    "data['pos_vs_neg'] = data.vader_pos - data.vader_neg"
   ]
  },
  {
   "cell_type": "code",
   "execution_count": 20,
   "metadata": {},
   "outputs": [],
   "source": [
    "data.to_csv('capstone_data_with_sentiment.csv', index=False)"
   ]
  },
  {
   "cell_type": "markdown",
   "metadata": {},
   "source": [
    "## Lexical Diversity Feature Engineering"
   ]
  },
  {
   "cell_type": "markdown",
   "metadata": {},
   "source": [
    "Change back into Python 3 environment/Kernel and run neccessary imports from **Imports and Installations** section."
   ]
  },
  {
   "cell_type": "markdown",
   "metadata": {},
   "source": [
    "### Functions"
   ]
  },
  {
   "cell_type": "code",
   "execution_count": 3,
   "metadata": {},
   "outputs": [],
   "source": [
    "def TTR_function(column):\n",
    "    \"\"\"\n",
    "    This is a function that is able to produce the type-token-ratio.\n",
    "    \n",
    "    It takes a whole column of a dataframe as an argument (column of lyrics, text entries).\n",
    "    1. It cleans the lyrics into a lowercase text without punctuation and then tokenizes this text\n",
    "    WITHOUT lemmatization.\n",
    "    2. The .ttr() function merely divides the number of unique words by the number of all words in the text(x).\n",
    "    \n",
    "    Returns a list of TTR values. One entry per column entry.\n",
    "    \"\"\"\n",
    "    lyrics = []\n",
    "\n",
    "    for x in column:\n",
    "        x = re.sub(\"[\\[].*?[\\]]\", \"\", x)\n",
    "        x = x.replace('\\n', ' ')\n",
    "        x = x.replace('\\\\', '')\n",
    "        x = re.sub(\"[\\(\\)]\", \"\", x)\n",
    "        x = re.sub(\"[\\!\\.\\,\\?]\", \" \", x)\n",
    "        #x = re.sub(\"[\\']\", \"\", x)\n",
    "        x = x.replace('  ', ' ')\n",
    "        x = x.lower()\n",
    "\n",
    "        x = ld.tokenize(x)\n",
    "\n",
    "        #x = ld.flemmatize(x)\n",
    "\n",
    "        ttr = ld.ttr(x)\n",
    "\n",
    "        lyrics.append(ttr)\n",
    "\n",
    "    return lyrics"
   ]
  },
  {
   "cell_type": "code",
   "execution_count": 4,
   "metadata": {},
   "outputs": [],
   "source": [
    "def MTLD_function(column):\n",
    "    \"\"\"\n",
    "    This is a function that is able to produce the 'Measure of Textual Lexical Diversity'. \n",
    "    1. It cleans the lyrics into a lowercase text without punctuation and then tokenize-lemmatizes it \n",
    "    with the lexical-diversity function .flemmatize().\n",
    "    2. The lexical-diversity's .mtld() function calculates MTLD based on McCarthy and Jarvis (2010).\n",
    "    \"\"\"\n",
    "    lyrics = []\n",
    "\n",
    "    for x in column:\n",
    "        x = re.sub(\"[\\[].*?[\\]]\", \"\", x)\n",
    "        x = x.replace('\\n', ' ')\n",
    "        x = x.replace('\\\\', '')\n",
    "        x = re.sub(\"[\\(\\)]\", \"\", x)\n",
    "        x = re.sub(\"[\\!\\.\\,\\?]\", \" \", x)\n",
    "        #x = re.sub(\"[\\']\", \"\", x)\n",
    "        x = x.replace('  ', ' ')\n",
    "        x = x.lower()\n",
    "\n",
    "        x = ld.flemmatize(x)\n",
    "\n",
    "        MTLD = ld.mtld(x)\n",
    "\n",
    "        lyrics.append(MTLD)\n",
    "\n",
    "    return lyrics"
   ]
  },
  {
   "cell_type": "code",
   "execution_count": 5,
   "metadata": {},
   "outputs": [],
   "source": [
    "data = pd.read_csv(\n",
    "    '../../../../../../project-capstone/personal-github/Resources/capstone_data_with_sentiment.csv'\n",
    ")"
   ]
  },
  {
   "cell_type": "code",
   "execution_count": 6,
   "metadata": {},
   "outputs": [
    {
     "data": {
      "text/html": [
       "<div>\n",
       "<style scoped>\n",
       "    .dataframe tbody tr th:only-of-type {\n",
       "        vertical-align: middle;\n",
       "    }\n",
       "\n",
       "    .dataframe tbody tr th {\n",
       "        vertical-align: top;\n",
       "    }\n",
       "\n",
       "    .dataframe thead th {\n",
       "        text-align: right;\n",
       "    }\n",
       "</style>\n",
       "<table border=\"1\" class=\"dataframe\">\n",
       "  <thead>\n",
       "    <tr style=\"text-align: right;\">\n",
       "      <th></th>\n",
       "      <th>track_name</th>\n",
       "      <th>artist_name</th>\n",
       "      <th>release_year</th>\n",
       "      <th>spotify_uri</th>\n",
       "      <th>lyrics</th>\n",
       "      <th>genre</th>\n",
       "      <th>track_id</th>\n",
       "      <th>popularity</th>\n",
       "      <th>acousticness</th>\n",
       "      <th>danceability</th>\n",
       "      <th>...</th>\n",
       "      <th>n_long_words</th>\n",
       "      <th>n_monosyllable_words</th>\n",
       "      <th>n_polysyllable_words</th>\n",
       "      <th>lyrics_processed</th>\n",
       "      <th>vader_compound</th>\n",
       "      <th>vader_neg</th>\n",
       "      <th>vader_neu</th>\n",
       "      <th>vader_pos</th>\n",
       "      <th>objectivity_score</th>\n",
       "      <th>pos_vs_neg</th>\n",
       "    </tr>\n",
       "  </thead>\n",
       "  <tbody>\n",
       "    <tr>\n",
       "      <td>0</td>\n",
       "      <td>Canal St.</td>\n",
       "      <td>A$AP Rocky</td>\n",
       "      <td>2015-05-26</td>\n",
       "      <td>spotify:track:0rBMP6VVGRgwnzZCLpijyl</td>\n",
       "      <td>[Produced by Hector Delgado, Frans Mernick, an...</td>\n",
       "      <td>Hip-Hop</td>\n",
       "      <td>0rBMP6VVGRgwnzZCLpijyl</td>\n",
       "      <td>68.0</td>\n",
       "      <td>0.308</td>\n",
       "      <td>0.696</td>\n",
       "      <td>...</td>\n",
       "      <td>39</td>\n",
       "      <td>542</td>\n",
       "      <td>7</td>\n",
       "      <td>yeah, live through the strugglin', life's a ...</td>\n",
       "      <td>-0.7965</td>\n",
       "      <td>0.110</td>\n",
       "      <td>0.792</td>\n",
       "      <td>0.098</td>\n",
       "      <td>1.012</td>\n",
       "      <td>-0.012</td>\n",
       "    </tr>\n",
       "    <tr>\n",
       "      <td>1</td>\n",
       "      <td>Brotha Man</td>\n",
       "      <td>A$AP Rocky</td>\n",
       "      <td>2018-05-25</td>\n",
       "      <td>NaN</td>\n",
       "      <td>[Verse 1: A$AP Rocky]\\nYoung man, brotha broth...</td>\n",
       "      <td>Hip-Hop</td>\n",
       "      <td>6MmtDonkpvSoRx9ACwrGDu</td>\n",
       "      <td>60.0</td>\n",
       "      <td>0.520</td>\n",
       "      <td>0.573</td>\n",
       "      <td>...</td>\n",
       "      <td>44</td>\n",
       "      <td>454</td>\n",
       "      <td>11</td>\n",
       "      <td>young man, brotha brotha, you gotta fight for...</td>\n",
       "      <td>0.9900</td>\n",
       "      <td>0.091</td>\n",
       "      <td>0.747</td>\n",
       "      <td>0.162</td>\n",
       "      <td>0.929</td>\n",
       "      <td>0.071</td>\n",
       "    </tr>\n",
       "    <tr>\n",
       "      <td>2</td>\n",
       "      <td>LVL</td>\n",
       "      <td>A$AP Rocky</td>\n",
       "      <td>2013-01-15</td>\n",
       "      <td>spotify:track:4dz4nfY5LeFUR99uspA5e6</td>\n",
       "      <td>[Produced by Clams Casino]\\n\\n[Intro: A$AP Roc...</td>\n",
       "      <td>Hip-Hop</td>\n",
       "      <td>787rCZF9i4L1cXGMkdyIk4</td>\n",
       "      <td>59.0</td>\n",
       "      <td>0.180</td>\n",
       "      <td>0.595</td>\n",
       "      <td>...</td>\n",
       "      <td>23</td>\n",
       "      <td>341</td>\n",
       "      <td>7</td>\n",
       "      <td>clams casino, nigga a$ap  mr. pistol popper,...</td>\n",
       "      <td>-0.9856</td>\n",
       "      <td>0.183</td>\n",
       "      <td>0.701</td>\n",
       "      <td>0.116</td>\n",
       "      <td>1.067</td>\n",
       "      <td>-0.067</td>\n",
       "    </tr>\n",
       "    <tr>\n",
       "      <td>3</td>\n",
       "      <td>Holy Ghost</td>\n",
       "      <td>A$AP Rocky</td>\n",
       "      <td>2015-05-26</td>\n",
       "      <td>spotify:track:6AHNkRbVzkh95xilnYzDT7</td>\n",
       "      <td>[Produced by Danger Mouse, additional producti...</td>\n",
       "      <td>Hip-Hop</td>\n",
       "      <td>6AHNkRbVzkh95xilnYzDT7</td>\n",
       "      <td>59.0</td>\n",
       "      <td>0.127</td>\n",
       "      <td>0.545</td>\n",
       "      <td>...</td>\n",
       "      <td>28</td>\n",
       "      <td>364</td>\n",
       "      <td>10</td>\n",
       "      <td>ay, i have a message from the most high that...</td>\n",
       "      <td>-0.9406</td>\n",
       "      <td>0.128</td>\n",
       "      <td>0.778</td>\n",
       "      <td>0.094</td>\n",
       "      <td>1.034</td>\n",
       "      <td>-0.034</td>\n",
       "    </tr>\n",
       "    <tr>\n",
       "      <td>4</td>\n",
       "      <td>Fashion Killa</td>\n",
       "      <td>A$AP Rocky</td>\n",
       "      <td>2013-01-15</td>\n",
       "      <td>spotify:track:40H5libEZWrbkc8HTlXGbt</td>\n",
       "      <td>[Chorus]\\nHer pistol go…\\n(Doot-doot-doot, ban...</td>\n",
       "      <td>Hip-Hop</td>\n",
       "      <td>0O3TAouZE4vL9dM5SyxgvH</td>\n",
       "      <td>65.0</td>\n",
       "      <td>0.293</td>\n",
       "      <td>0.802</td>\n",
       "      <td>...</td>\n",
       "      <td>54</td>\n",
       "      <td>624</td>\n",
       "      <td>13</td>\n",
       "      <td>her pistol go… doot-doot-doot, bang-bang, boo...</td>\n",
       "      <td>0.9722</td>\n",
       "      <td>0.072</td>\n",
       "      <td>0.807</td>\n",
       "      <td>0.121</td>\n",
       "      <td>0.951</td>\n",
       "      <td>0.049</td>\n",
       "    </tr>\n",
       "  </tbody>\n",
       "</table>\n",
       "<p>5 rows × 36 columns</p>\n",
       "</div>"
      ],
      "text/plain": [
       "      track_name artist_name release_year  \\\n",
       "0      Canal St.  A$AP Rocky   2015-05-26   \n",
       "1     Brotha Man  A$AP Rocky   2018-05-25   \n",
       "2            LVL  A$AP Rocky   2013-01-15   \n",
       "3     Holy Ghost  A$AP Rocky   2015-05-26   \n",
       "4  Fashion Killa  A$AP Rocky   2013-01-15   \n",
       "\n",
       "                            spotify_uri  \\\n",
       "0  spotify:track:0rBMP6VVGRgwnzZCLpijyl   \n",
       "1                                   NaN   \n",
       "2  spotify:track:4dz4nfY5LeFUR99uspA5e6   \n",
       "3  spotify:track:6AHNkRbVzkh95xilnYzDT7   \n",
       "4  spotify:track:40H5libEZWrbkc8HTlXGbt   \n",
       "\n",
       "                                              lyrics    genre  \\\n",
       "0  [Produced by Hector Delgado, Frans Mernick, an...  Hip-Hop   \n",
       "1  [Verse 1: A$AP Rocky]\\nYoung man, brotha broth...  Hip-Hop   \n",
       "2  [Produced by Clams Casino]\\n\\n[Intro: A$AP Roc...  Hip-Hop   \n",
       "3  [Produced by Danger Mouse, additional producti...  Hip-Hop   \n",
       "4  [Chorus]\\nHer pistol go…\\n(Doot-doot-doot, ban...  Hip-Hop   \n",
       "\n",
       "                 track_id  popularity  acousticness  danceability  ...  \\\n",
       "0  0rBMP6VVGRgwnzZCLpijyl        68.0         0.308         0.696  ...   \n",
       "1  6MmtDonkpvSoRx9ACwrGDu        60.0         0.520         0.573  ...   \n",
       "2  787rCZF9i4L1cXGMkdyIk4        59.0         0.180         0.595  ...   \n",
       "3  6AHNkRbVzkh95xilnYzDT7        59.0         0.127         0.545  ...   \n",
       "4  0O3TAouZE4vL9dM5SyxgvH        65.0         0.293         0.802  ...   \n",
       "\n",
       "   n_long_words  n_monosyllable_words  n_polysyllable_words  \\\n",
       "0            39                   542                     7   \n",
       "1            44                   454                    11   \n",
       "2            23                   341                     7   \n",
       "3            28                   364                    10   \n",
       "4            54                   624                    13   \n",
       "\n",
       "                                    lyrics_processed  vader_compound  \\\n",
       "0    yeah, live through the strugglin', life's a ...         -0.7965   \n",
       "1   young man, brotha brotha, you gotta fight for...          0.9900   \n",
       "2    clams casino, nigga a$ap  mr. pistol popper,...         -0.9856   \n",
       "3    ay, i have a message from the most high that...         -0.9406   \n",
       "4   her pistol go… doot-doot-doot, bang-bang, boo...          0.9722   \n",
       "\n",
       "   vader_neg vader_neu  vader_pos  objectivity_score pos_vs_neg  \n",
       "0      0.110     0.792      0.098              1.012     -0.012  \n",
       "1      0.091     0.747      0.162              0.929      0.071  \n",
       "2      0.183     0.701      0.116              1.067     -0.067  \n",
       "3      0.128     0.778      0.094              1.034     -0.034  \n",
       "4      0.072     0.807      0.121              0.951      0.049  \n",
       "\n",
       "[5 rows x 36 columns]"
      ]
     },
     "execution_count": 6,
     "metadata": {},
     "output_type": "execute_result"
    }
   ],
   "source": [
    "data.head()"
   ]
  },
  {
   "cell_type": "code",
   "execution_count": 7,
   "metadata": {},
   "outputs": [
    {
     "data": {
      "text/plain": [
       "Index(['track_name', 'artist_name', 'release_year', 'spotify_uri', 'lyrics',\n",
       "       'genre', 'track_id', 'popularity', 'acousticness', 'danceability',\n",
       "       'duration_ms', 'energy', 'instrumentalness', 'key', 'liveness',\n",
       "       'loudness', 'mode', 'speechiness', 'tempo', 'time_signature', 'valence',\n",
       "       'n_sentences', 'word_count', 'character_count', 'n_syllables',\n",
       "       'unique_word_count', 'n_long_words', 'n_monosyllable_words',\n",
       "       'n_polysyllable_words', 'lyrics_processed', 'vader_compound',\n",
       "       'vader_neg', 'vader_neu', 'vader_pos', 'objectivity_score',\n",
       "       'pos_vs_neg'],\n",
       "      dtype='object')"
      ]
     },
     "execution_count": 7,
     "metadata": {},
     "output_type": "execute_result"
    }
   ],
   "source": [
    "data.columns"
   ]
  },
  {
   "cell_type": "markdown",
   "metadata": {},
   "source": [
    "**Type-Token-Ratio (TTR)**"
   ]
  },
  {
   "cell_type": "code",
   "execution_count": 8,
   "metadata": {},
   "outputs": [],
   "source": [
    "data['TTR'] = TTR_function(data.lyrics)"
   ]
  },
  {
   "cell_type": "markdown",
   "metadata": {},
   "source": [
    "**Measure of lexical textual diversity (MTLD)**"
   ]
  },
  {
   "cell_type": "code",
   "execution_count": 9,
   "metadata": {},
   "outputs": [],
   "source": [
    "data['MTLD'] = MTLD_function(data.lyrics)"
   ]
  },
  {
   "cell_type": "markdown",
   "metadata": {},
   "source": [
    "**Saving dataframe**"
   ]
  },
  {
   "cell_type": "code",
   "execution_count": 10,
   "metadata": {},
   "outputs": [],
   "source": [
    "data.to_csv('capstone_feature_engineered.csv', index=False)"
   ]
  }
 ],
 "metadata": {
  "kernelspec": {
   "display_name": "Python 3",
   "language": "python",
   "name": "python3"
  },
  "language_info": {
   "codemirror_mode": {
    "name": "ipython",
    "version": 3
   },
   "file_extension": ".py",
   "mimetype": "text/x-python",
   "name": "python",
   "nbconvert_exporter": "python",
   "pygments_lexer": "ipython3",
   "version": "3.7.4"
  },
  "toc": {
   "base_numbering": 1,
   "nav_menu": {},
   "number_sections": true,
   "sideBar": true,
   "skip_h1_title": true,
   "title_cell": "Table of Contents",
   "title_sidebar": "Contents",
   "toc_cell": true,
   "toc_position": {},
   "toc_section_display": true,
   "toc_window_display": true
  }
 },
 "nbformat": 4,
 "nbformat_minor": 2
}
