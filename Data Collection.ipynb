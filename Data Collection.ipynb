{
 "cells": [
  {
   "cell_type": "markdown",
   "metadata": {},
   "source": [
    "# Data Collection"
   ]
  },
  {
   "cell_type": "markdown",
   "metadata": {
    "toc": true
   },
   "source": [
    "<h1>Table of Contents<span class=\"tocSkip\"></span></h1>\n",
    "<div class=\"toc\"><ul class=\"toc-item\"><li><span><a href=\"#Imports\" data-toc-modified-id=\"Imports-1\"><span class=\"toc-item-num\">1&nbsp;&nbsp;</span>Imports</a></span></li><li><span><a href=\"#Installation-of-lyricsgenius-by-johnwmillr\" data-toc-modified-id=\"Installation-of-lyricsgenius-by-johnwmillr-2\"><span class=\"toc-item-num\">2&nbsp;&nbsp;</span>Installation of lyricsgenius by johnwmillr</a></span></li><li><span><a href=\"#Functions\" data-toc-modified-id=\"Functions-3\"><span class=\"toc-item-num\">3&nbsp;&nbsp;</span>Functions</a></span></li><li><span><a href=\"#Genius-DataFrame-Creation\" data-toc-modified-id=\"Genius-DataFrame-Creation-4\"><span class=\"toc-item-num\">4&nbsp;&nbsp;</span>Genius DataFrame Creation</a></span></li></ul></div>"
   ]
  },
  {
   "cell_type": "markdown",
   "metadata": {},
   "source": [
    "### Imports"
   ]
  },
  {
   "cell_type": "code",
   "execution_count": 1,
   "metadata": {},
   "outputs": [],
   "source": [
    "import pandas as pd\n",
    "import numpy as np\n",
    "import json\n",
    "from time import sleep\n",
    "from random import randint\n",
    "import requests\n",
    "import re\n",
    "import unidecode\n",
    "from tqdm import tqdm\n",
    "import pprint"
   ]
  },
  {
   "cell_type": "markdown",
   "metadata": {},
   "source": [
    "### Installation of lyricsgenius by johnwmillr"
   ]
  },
  {
   "cell_type": "markdown",
   "metadata": {},
   "source": [
    "Source: https://github.com/johnwmillr/LyricsGenius"
   ]
  },
  {
   "cell_type": "markdown",
   "metadata": {},
   "source": [
    "The Genius API wrapper was installed by entering the following into the terminal's bash:"
   ]
  },
  {
   "cell_type": "markdown",
   "metadata": {},
   "source": [
    "```pip install lyricsgenius```"
   ]
  },
  {
   "cell_type": "markdown",
   "metadata": {},
   "source": [
    "This created the lyricsgenius folder in the current working directory. To run the scripts the lyricsgenius folder was moved into the same folder as the jupyter notebook and the working directory changed to that folder.\n",
    "\n",
    "lyricsgenius was imported into the jupyter notebook as genius and the api object created passing the client_access_token received from the Genius developer account (see below). \n",
    "\n",
    "https://genius.com/developers"
   ]
  },
  {
   "cell_type": "code",
   "execution_count": 2,
   "metadata": {},
   "outputs": [],
   "source": [
    "import lyricsgenius as genius\n",
    "api = genius.Genius(client_access_token='XXXXXXXXXXXXXXXXXXXXXXXXXXXXXXXXXXXXXXXXXXXXXXXXXXXXXXXXXXXXXXXX')"
   ]
  },
  {
   "cell_type": "markdown",
   "metadata": {},
   "source": [
    "### Functions"
   ]
  },
  {
   "cell_type": "code",
   "execution_count": 3,
   "metadata": {},
   "outputs": [],
   "source": [
    "def artist_song_dict(artist_list, spotify):\n",
    "    '''\n",
    "    This function takes a list of music artist and a dataframe containing artist_names and track_names\n",
    "        and will return a dictionary containing artist names as keys and a list of their songs found in \n",
    "        the dataframe as the values. The function excludes any songs which contain the expressions:\n",
    "        - 'Remastered' or 'Remaster'\n",
    "        - 'feat' or 'ft.' \n",
    "        - 'Remix', 'RMX' or 'Mix'\n",
    "        - 'Spotify'\n",
    "        - 'Studios'\n",
    "        - 'Christmas'\n",
    "        - 'Single Version', 'Album Version' or 'Version'\n",
    "        - 'BBC'\n",
    "        - 'Demo'\n",
    "        - 'Edition'\n",
    "        - 'Mono'\n",
    "        - 'Live from', 'Live At' or 'Live at'\n",
    "        - 'Soundtrack'\n",
    "    '''\n",
    "    artist_dict = {}\n",
    "    for artist in artist_list:\n",
    "        songs = []\n",
    "        for item in spotify.track_name[\n",
    "            (spotify.artist_name == artist) &\n",
    "            (spotify.track_name.str.contains(r'Remastered|Remaster') == False)\n",
    "                & (spotify.track_name.str.contains(r'feat.|ft.') == False) &\n",
    "            (spotify.track_name.str.contains(r'Remix|remix|RMX|Mix') == False)\n",
    "                &\n",
    "            (spotify.track_name.str.contains(r'Spotify|Studios|Soundtrack')\n",
    "             == False) &\n",
    "            (spotify.track_name.str.contains(r'Christmas') == False) &\n",
    "            (spotify.track_name.str.contains(\n",
    "                r'Single Version|Album Version|Version|BBC|Demo|Edition|Mono')\n",
    "             == False) & (spotify.track_name.str.contains(\n",
    "                 r'Live from|Live at|Live At|live at') == False)]:\n",
    "            songs.append(item)\n",
    "        songs = list(set(songs))\n",
    "        artist_dict[artist] = songs\n",
    "    return artist_dict"
   ]
  },
  {
   "cell_type": "code",
   "execution_count": 4,
   "metadata": {},
   "outputs": [],
   "source": [
    "def missing_songs(artists_list, artist_dict, scraped_dataframe):\n",
    "    '''\n",
    "    This function accepts a created artist list, its derived dictionary with songs, \n",
    "    and a lyrics genius dataframe. It returns a dictionary containing the artists and \n",
    "    the songs that weren't successfully scraped.\n",
    "    '''\n",
    "    missing_songs_dict = {}\n",
    "    for artist in artists_list:\n",
    "        tracks = []\n",
    "        for item in artist_dict[artist]:\n",
    "            if item not in list(scraped_dataframe[scraped_dataframe.artist_name== artist].track_name):\n",
    "                tracks.append(item)\n",
    "        missing_songs_dict[artist] = tracks\n",
    "    return missing_songs_dict"
   ]
  },
  {
   "cell_type": "code",
   "execution_count": 5,
   "metadata": {},
   "outputs": [],
   "source": [
    "def genius_lyrics_dataframe(artist_dict):\n",
    "    '''\n",
    "    This function accepts a dictionary holding artist names as keys and their songs as values.\n",
    "    Through the lyricsgenius wrapper it is able to populate a dataframe.\n",
    "    The function returns the scraped dataframe containing the variables:\n",
    "        - track_name\n",
    "        - artist_name\n",
    "        - release_year\n",
    "        - spotify_uri\n",
    "        - genius_url\n",
    "        - lyrics\n",
    "    '''\n",
    "    song_titles = []\n",
    "    song_artists = []\n",
    "    releases = []\n",
    "    uris = []\n",
    "    urls = []\n",
    "    lyrs = []\n",
    "    for key in artist_dict.keys():\n",
    "        for song_title in tqdm(artist_dict[key]):\n",
    "            try:\n",
    "                song = api.search_song(song_title, key)\n",
    "\n",
    "                song_json = song.to_json()\n",
    "\n",
    "                try:\n",
    "                    song_titles.append(song.title)\n",
    "                except:\n",
    "                    song_titles.append(np.nan)\n",
    "\n",
    "                try:\n",
    "                    song_artists.append(song.artist)\n",
    "                except:\n",
    "                    song_artists.append(np.nan)\n",
    "\n",
    "                try:\n",
    "                    releases.append(song.year)\n",
    "                except:\n",
    "                    releases.append(np.nan)\n",
    "\n",
    "                uri = np.nan\n",
    "                for i in range(0, len(song.media)):\n",
    "                    if 'native_uri' in song.media[i].keys():\n",
    "                        uri = song.media[i]['native_uri']\n",
    "                    else:\n",
    "                        pass\n",
    "                uris.append(uri)\n",
    "\n",
    "                try:\n",
    "                    urls.append(song_json['songs'][0]['url'])\n",
    "                except:\n",
    "                    urls.append(np.nan)\n",
    "\n",
    "                try:\n",
    "                    lyrs.append(song.lyrics)\n",
    "                except:\n",
    "                    lyrs.append(np.nan)\n",
    "            except:\n",
    "                pass\n",
    "\n",
    "    return pd.DataFrame.from_dict({\n",
    "        'track_name': song_titles,\n",
    "        'artist_name': song_artists,\n",
    "        'release_year': releases,\n",
    "        'spotify_uri': uris,\n",
    "        'genius_url': urls,\n",
    "        'lyrics': lyrs\n",
    "    })"
   ]
  },
  {
   "cell_type": "markdown",
   "metadata": {},
   "source": [
    "### Genius DataFrame Creation"
   ]
  },
  {
   "cell_type": "markdown",
   "metadata": {},
   "source": [
    "* The spotify audio data was retrieved from a Kaggle dataset found in the link below.\n",
    "\n",
    "https://www.kaggle.com/zaheenhamidani/ultimate-spotify-tracks-db\n",
    "\n",
    "* A random set of artists was selected and a list created. \n",
    "\n",
    "* From these artists their songs were extracted form the Kaggle dataset (dataframe --> spotify) with the artist_song_dict( ) function."
   ]
  },
  {
   "cell_type": "code",
   "execution_count": 6,
   "metadata": {},
   "outputs": [],
   "source": [
    "spotify = pd.read_csv(\n",
    "    '../../../../../../project-capstone/personal-github/Resources/SpotifyFeatures_Kaggle_TracksDB.csv'\n",
    ")"
   ]
  },
  {
   "cell_type": "code",
   "execution_count": 7,
   "metadata": {},
   "outputs": [
    {
     "data": {
      "text/html": [
       "<div>\n",
       "<style scoped>\n",
       "    .dataframe tbody tr th:only-of-type {\n",
       "        vertical-align: middle;\n",
       "    }\n",
       "\n",
       "    .dataframe tbody tr th {\n",
       "        vertical-align: top;\n",
       "    }\n",
       "\n",
       "    .dataframe thead th {\n",
       "        text-align: right;\n",
       "    }\n",
       "</style>\n",
       "<table border=\"1\" class=\"dataframe\">\n",
       "  <thead>\n",
       "    <tr style=\"text-align: right;\">\n",
       "      <th></th>\n",
       "      <th>genre</th>\n",
       "      <th>artist_name</th>\n",
       "      <th>track_name</th>\n",
       "      <th>track_id</th>\n",
       "      <th>popularity</th>\n",
       "      <th>acousticness</th>\n",
       "      <th>danceability</th>\n",
       "      <th>duration_ms</th>\n",
       "      <th>energy</th>\n",
       "      <th>instrumentalness</th>\n",
       "      <th>key</th>\n",
       "      <th>liveness</th>\n",
       "      <th>loudness</th>\n",
       "      <th>mode</th>\n",
       "      <th>speechiness</th>\n",
       "      <th>tempo</th>\n",
       "      <th>time_signature</th>\n",
       "      <th>valence</th>\n",
       "    </tr>\n",
       "  </thead>\n",
       "  <tbody>\n",
       "    <tr>\n",
       "      <td>0</td>\n",
       "      <td>Movie</td>\n",
       "      <td>Henri Salvador</td>\n",
       "      <td>C'est beau de faire un Show</td>\n",
       "      <td>0BRjO6ga9RKCKjfDqeFgWV</td>\n",
       "      <td>0</td>\n",
       "      <td>0.611</td>\n",
       "      <td>0.389</td>\n",
       "      <td>99373</td>\n",
       "      <td>0.910</td>\n",
       "      <td>0.000</td>\n",
       "      <td>C#</td>\n",
       "      <td>0.3460</td>\n",
       "      <td>-1.828</td>\n",
       "      <td>Major</td>\n",
       "      <td>0.0525</td>\n",
       "      <td>166.969</td>\n",
       "      <td>4/4</td>\n",
       "      <td>0.814</td>\n",
       "    </tr>\n",
       "    <tr>\n",
       "      <td>1</td>\n",
       "      <td>Movie</td>\n",
       "      <td>Martin &amp; les fées</td>\n",
       "      <td>Perdu d'avance (par Gad Elmaleh)</td>\n",
       "      <td>0BjC1NfoEOOusryehmNudP</td>\n",
       "      <td>1</td>\n",
       "      <td>0.246</td>\n",
       "      <td>0.590</td>\n",
       "      <td>137373</td>\n",
       "      <td>0.737</td>\n",
       "      <td>0.000</td>\n",
       "      <td>F#</td>\n",
       "      <td>0.1510</td>\n",
       "      <td>-5.559</td>\n",
       "      <td>Minor</td>\n",
       "      <td>0.0868</td>\n",
       "      <td>174.003</td>\n",
       "      <td>4/4</td>\n",
       "      <td>0.816</td>\n",
       "    </tr>\n",
       "    <tr>\n",
       "      <td>2</td>\n",
       "      <td>Movie</td>\n",
       "      <td>Joseph Williams</td>\n",
       "      <td>Don't Let Me Be Lonely Tonight</td>\n",
       "      <td>0CoSDzoNIKCRs124s9uTVy</td>\n",
       "      <td>3</td>\n",
       "      <td>0.952</td>\n",
       "      <td>0.663</td>\n",
       "      <td>170267</td>\n",
       "      <td>0.131</td>\n",
       "      <td>0.000</td>\n",
       "      <td>C</td>\n",
       "      <td>0.1030</td>\n",
       "      <td>-13.879</td>\n",
       "      <td>Minor</td>\n",
       "      <td>0.0362</td>\n",
       "      <td>99.488</td>\n",
       "      <td>5/4</td>\n",
       "      <td>0.368</td>\n",
       "    </tr>\n",
       "    <tr>\n",
       "      <td>3</td>\n",
       "      <td>Movie</td>\n",
       "      <td>Henri Salvador</td>\n",
       "      <td>Dis-moi Monsieur Gordon Cooper</td>\n",
       "      <td>0Gc6TVm52BwZD07Ki6tIvf</td>\n",
       "      <td>0</td>\n",
       "      <td>0.703</td>\n",
       "      <td>0.240</td>\n",
       "      <td>152427</td>\n",
       "      <td>0.326</td>\n",
       "      <td>0.000</td>\n",
       "      <td>C#</td>\n",
       "      <td>0.0985</td>\n",
       "      <td>-12.178</td>\n",
       "      <td>Major</td>\n",
       "      <td>0.0395</td>\n",
       "      <td>171.758</td>\n",
       "      <td>4/4</td>\n",
       "      <td>0.227</td>\n",
       "    </tr>\n",
       "    <tr>\n",
       "      <td>4</td>\n",
       "      <td>Movie</td>\n",
       "      <td>Fabien Nataf</td>\n",
       "      <td>Ouverture</td>\n",
       "      <td>0IuslXpMROHdEPvSl1fTQK</td>\n",
       "      <td>4</td>\n",
       "      <td>0.950</td>\n",
       "      <td>0.331</td>\n",
       "      <td>82625</td>\n",
       "      <td>0.225</td>\n",
       "      <td>0.123</td>\n",
       "      <td>F</td>\n",
       "      <td>0.2020</td>\n",
       "      <td>-21.150</td>\n",
       "      <td>Major</td>\n",
       "      <td>0.0456</td>\n",
       "      <td>140.576</td>\n",
       "      <td>4/4</td>\n",
       "      <td>0.390</td>\n",
       "    </tr>\n",
       "  </tbody>\n",
       "</table>\n",
       "</div>"
      ],
      "text/plain": [
       "   genre        artist_name                        track_name  \\\n",
       "0  Movie     Henri Salvador       C'est beau de faire un Show   \n",
       "1  Movie  Martin & les fées  Perdu d'avance (par Gad Elmaleh)   \n",
       "2  Movie    Joseph Williams    Don't Let Me Be Lonely Tonight   \n",
       "3  Movie     Henri Salvador    Dis-moi Monsieur Gordon Cooper   \n",
       "4  Movie       Fabien Nataf                         Ouverture   \n",
       "\n",
       "                 track_id  popularity  acousticness  danceability  \\\n",
       "0  0BRjO6ga9RKCKjfDqeFgWV           0         0.611         0.389   \n",
       "1  0BjC1NfoEOOusryehmNudP           1         0.246         0.590   \n",
       "2  0CoSDzoNIKCRs124s9uTVy           3         0.952         0.663   \n",
       "3  0Gc6TVm52BwZD07Ki6tIvf           0         0.703         0.240   \n",
       "4  0IuslXpMROHdEPvSl1fTQK           4         0.950         0.331   \n",
       "\n",
       "   duration_ms  energy  instrumentalness key  liveness  loudness   mode  \\\n",
       "0        99373   0.910             0.000  C#    0.3460    -1.828  Major   \n",
       "1       137373   0.737             0.000  F#    0.1510    -5.559  Minor   \n",
       "2       170267   0.131             0.000   C    0.1030   -13.879  Minor   \n",
       "3       152427   0.326             0.000  C#    0.0985   -12.178  Major   \n",
       "4        82625   0.225             0.123   F    0.2020   -21.150  Major   \n",
       "\n",
       "   speechiness    tempo time_signature  valence  \n",
       "0       0.0525  166.969            4/4    0.814  \n",
       "1       0.0868  174.003            4/4    0.816  \n",
       "2       0.0362   99.488            5/4    0.368  \n",
       "3       0.0395  171.758            4/4    0.227  \n",
       "4       0.0456  140.576            4/4    0.390  "
      ]
     },
     "execution_count": 7,
     "metadata": {},
     "output_type": "execute_result"
    }
   ],
   "source": [
    "spotify.head()"
   ]
  },
  {
   "cell_type": "code",
   "execution_count": 8,
   "metadata": {},
   "outputs": [
    {
     "data": {
      "text/plain": [
       "(232725, 18)"
      ]
     },
     "execution_count": 8,
     "metadata": {},
     "output_type": "execute_result"
    }
   ],
   "source": [
    "spotify.shape"
   ]
  },
  {
   "cell_type": "markdown",
   "metadata": {},
   "source": [
    "**To start with, the Kaggle dataset has a lot of duplicated entries as a lot of songs fall under multiple genres, hence I dropped these multiple copies of a song and only kept the first instance of each.**"
   ]
  },
  {
   "cell_type": "markdown",
   "metadata": {},
   "source": [
    "*All duplicated entries:*"
   ]
  },
  {
   "cell_type": "code",
   "execution_count": 9,
   "metadata": {},
   "outputs": [
    {
     "data": {
      "text/plain": [
       "91469"
      ]
     },
     "execution_count": 9,
     "metadata": {},
     "output_type": "execute_result"
    }
   ],
   "source": [
    "len(spotify[spotify.duplicated(['track_name','artist_name'], keep=False)])"
   ]
  },
  {
   "cell_type": "markdown",
   "metadata": {},
   "source": [
    "*All duplicated entries but excluding their first instance:*"
   ]
  },
  {
   "cell_type": "code",
   "execution_count": 10,
   "metadata": {},
   "outputs": [
    {
     "data": {
      "text/plain": [
       "56211"
      ]
     },
     "execution_count": 10,
     "metadata": {},
     "output_type": "execute_result"
    }
   ],
   "source": [
    "len(spotify[spotify.duplicated(['track_name','artist_name'], keep='first')])"
   ]
  },
  {
   "cell_type": "code",
   "execution_count": 11,
   "metadata": {},
   "outputs": [
    {
     "data": {
      "text/html": [
       "<div>\n",
       "<style scoped>\n",
       "    .dataframe tbody tr th:only-of-type {\n",
       "        vertical-align: middle;\n",
       "    }\n",
       "\n",
       "    .dataframe tbody tr th {\n",
       "        vertical-align: top;\n",
       "    }\n",
       "\n",
       "    .dataframe thead th {\n",
       "        text-align: right;\n",
       "    }\n",
       "</style>\n",
       "<table border=\"1\" class=\"dataframe\">\n",
       "  <thead>\n",
       "    <tr style=\"text-align: right;\">\n",
       "      <th></th>\n",
       "      <th>genre</th>\n",
       "      <th>artist_name</th>\n",
       "      <th>track_name</th>\n",
       "      <th>track_id</th>\n",
       "      <th>popularity</th>\n",
       "      <th>acousticness</th>\n",
       "      <th>danceability</th>\n",
       "      <th>duration_ms</th>\n",
       "      <th>energy</th>\n",
       "      <th>instrumentalness</th>\n",
       "      <th>key</th>\n",
       "      <th>liveness</th>\n",
       "      <th>loudness</th>\n",
       "      <th>mode</th>\n",
       "      <th>speechiness</th>\n",
       "      <th>tempo</th>\n",
       "      <th>time_signature</th>\n",
       "      <th>valence</th>\n",
       "    </tr>\n",
       "  </thead>\n",
       "  <tbody>\n",
       "    <tr>\n",
       "      <td>121128</td>\n",
       "      <td>Rap</td>\n",
       "      <td>Rae Sremmurd</td>\n",
       "      <td>\"42\" - From SR3MM</td>\n",
       "      <td>5lf91lPnGKtIqsgmG1z8Ip</td>\n",
       "      <td>53</td>\n",
       "      <td>0.00275</td>\n",
       "      <td>0.968</td>\n",
       "      <td>238020</td>\n",
       "      <td>0.5630</td>\n",
       "      <td>0.000000</td>\n",
       "      <td>C#</td>\n",
       "      <td>0.108</td>\n",
       "      <td>-6.744</td>\n",
       "      <td>Major</td>\n",
       "      <td>0.1250</td>\n",
       "      <td>130.039</td>\n",
       "      <td>4/4</td>\n",
       "      <td>0.3240</td>\n",
       "    </tr>\n",
       "    <tr>\n",
       "      <td>166523</td>\n",
       "      <td>Rock</td>\n",
       "      <td>Barns Courtney</td>\n",
       "      <td>\"99\"</td>\n",
       "      <td>6YQUuoMnRIMaOmouYoMfQr</td>\n",
       "      <td>69</td>\n",
       "      <td>0.00598</td>\n",
       "      <td>0.552</td>\n",
       "      <td>199413</td>\n",
       "      <td>0.8040</td>\n",
       "      <td>0.000000</td>\n",
       "      <td>G#</td>\n",
       "      <td>0.111</td>\n",
       "      <td>-4.299</td>\n",
       "      <td>Major</td>\n",
       "      <td>0.0303</td>\n",
       "      <td>95.980</td>\n",
       "      <td>4/4</td>\n",
       "      <td>0.7140</td>\n",
       "    </tr>\n",
       "    <tr>\n",
       "      <td>77209</td>\n",
       "      <td>Children’s Music</td>\n",
       "      <td>Barns Courtney</td>\n",
       "      <td>\"99\"</td>\n",
       "      <td>6YQUuoMnRIMaOmouYoMfQr</td>\n",
       "      <td>69</td>\n",
       "      <td>0.00598</td>\n",
       "      <td>0.552</td>\n",
       "      <td>199413</td>\n",
       "      <td>0.8040</td>\n",
       "      <td>0.000000</td>\n",
       "      <td>G#</td>\n",
       "      <td>0.111</td>\n",
       "      <td>-4.299</td>\n",
       "      <td>Major</td>\n",
       "      <td>0.0303</td>\n",
       "      <td>95.980</td>\n",
       "      <td>4/4</td>\n",
       "      <td>0.7140</td>\n",
       "    </tr>\n",
       "    <tr>\n",
       "      <td>199606</td>\n",
       "      <td>Soundtrack</td>\n",
       "      <td>Howard Shore</td>\n",
       "      <td>\"A Far Green Country\"</td>\n",
       "      <td>1U5wqqEATmbCpSqADvSqy9</td>\n",
       "      <td>41</td>\n",
       "      <td>0.31400</td>\n",
       "      <td>0.218</td>\n",
       "      <td>87920</td>\n",
       "      <td>0.0832</td>\n",
       "      <td>0.962000</td>\n",
       "      <td>C</td>\n",
       "      <td>0.208</td>\n",
       "      <td>-23.025</td>\n",
       "      <td>Major</td>\n",
       "      <td>0.0366</td>\n",
       "      <td>72.023</td>\n",
       "      <td>4/4</td>\n",
       "      <td>0.0795</td>\n",
       "    </tr>\n",
       "    <tr>\n",
       "      <td>121797</td>\n",
       "      <td>Rap</td>\n",
       "      <td>Bone Thugs-N-Harmony</td>\n",
       "      <td>\"Eternal\"</td>\n",
       "      <td>14Klge4yTyUeFEn9yvBUjh</td>\n",
       "      <td>48</td>\n",
       "      <td>0.17700</td>\n",
       "      <td>0.818</td>\n",
       "      <td>243920</td>\n",
       "      <td>0.5130</td>\n",
       "      <td>0.000001</td>\n",
       "      <td>C#</td>\n",
       "      <td>0.469</td>\n",
       "      <td>-9.265</td>\n",
       "      <td>Minor</td>\n",
       "      <td>0.1880</td>\n",
       "      <td>80.047</td>\n",
       "      <td>4/4</td>\n",
       "      <td>0.5600</td>\n",
       "    </tr>\n",
       "  </tbody>\n",
       "</table>\n",
       "</div>"
      ],
      "text/plain": [
       "                   genre           artist_name             track_name  \\\n",
       "121128               Rap          Rae Sremmurd      \"42\" - From SR3MM   \n",
       "166523              Rock        Barns Courtney                   \"99\"   \n",
       "77209   Children’s Music        Barns Courtney                   \"99\"   \n",
       "199606        Soundtrack          Howard Shore  \"A Far Green Country\"   \n",
       "121797               Rap  Bone Thugs-N-Harmony              \"Eternal\"   \n",
       "\n",
       "                      track_id  popularity  acousticness  danceability  \\\n",
       "121128  5lf91lPnGKtIqsgmG1z8Ip          53       0.00275         0.968   \n",
       "166523  6YQUuoMnRIMaOmouYoMfQr          69       0.00598         0.552   \n",
       "77209   6YQUuoMnRIMaOmouYoMfQr          69       0.00598         0.552   \n",
       "199606  1U5wqqEATmbCpSqADvSqy9          41       0.31400         0.218   \n",
       "121797  14Klge4yTyUeFEn9yvBUjh          48       0.17700         0.818   \n",
       "\n",
       "        duration_ms  energy  instrumentalness key  liveness  loudness   mode  \\\n",
       "121128       238020  0.5630          0.000000  C#     0.108    -6.744  Major   \n",
       "166523       199413  0.8040          0.000000  G#     0.111    -4.299  Major   \n",
       "77209        199413  0.8040          0.000000  G#     0.111    -4.299  Major   \n",
       "199606        87920  0.0832          0.962000   C     0.208   -23.025  Major   \n",
       "121797       243920  0.5130          0.000001  C#     0.469    -9.265  Minor   \n",
       "\n",
       "        speechiness    tempo time_signature  valence  \n",
       "121128       0.1250  130.039            4/4   0.3240  \n",
       "166523       0.0303   95.980            4/4   0.7140  \n",
       "77209        0.0303   95.980            4/4   0.7140  \n",
       "199606       0.0366   72.023            4/4   0.0795  \n",
       "121797       0.1880   80.047            4/4   0.5600  "
      ]
     },
     "execution_count": 11,
     "metadata": {},
     "output_type": "execute_result"
    }
   ],
   "source": [
    "spotify[spotify.duplicated(['track_name','artist_name'])].sort_values(by='track_name').head(5)"
   ]
  },
  {
   "cell_type": "markdown",
   "metadata": {},
   "source": [
    "* Dropped all copies of songs apart from the first instance (dropped by index)."
   ]
  },
  {
   "cell_type": "code",
   "execution_count": 12,
   "metadata": {},
   "outputs": [],
   "source": [
    "spotify.drop(index=spotify[spotify.duplicated(['artist_name','track_name'], keep='first')].index, inplace=True)"
   ]
  },
  {
   "cell_type": "code",
   "execution_count": 13,
   "metadata": {},
   "outputs": [
    {
     "data": {
      "text/plain": [
       "(176514, 18)"
      ]
     },
     "execution_count": 13,
     "metadata": {},
     "output_type": "execute_result"
    }
   ],
   "source": [
    "spotify.shape"
   ]
  },
  {
   "cell_type": "markdown",
   "metadata": {},
   "source": [
    "* Curated a list of artist which will be used to train the model."
   ]
  },
  {
   "cell_type": "code",
   "execution_count": 14,
   "metadata": {},
   "outputs": [],
   "source": [
    "artists = [\n",
    "    'John Legend', 'Adele', 'Frank Ocean', 'Aretha Franklin', 'Amy Winehouse',\n",
    "    'The Rolling Stones', 'Led Zeppelin', 'Arctic Monkeys', 'The Beatles',\n",
    "    'Queen', 'Fall Out Boy', 'Tame Impala', 'Beach House', 'Kings of Leon',\n",
    "    'Radiohead', 'Red Hot Chilli Peppers', 'Gorillaz', 'Linkin Park',\n",
    "    'The Black Keys', 'Slipknot', 'Metallica', 'Korn', 'Nirvana',\n",
    "    'Foo Fighters', 'The Neighborhood', 'The Weeknd', 'Kayne West', 'Beyoncé',\n",
    "    'Rihanna', 'Kendrick Lamar', 'Florence & The Machine',\n",
    "    'Tyler, The Creator', 'A$AP Rocky', 'Lil Wayne', 'System Of A Down',\n",
    "    'Passion Pit', 'Caribou', 'Twin Shadow', 'HAIM', 'Sister Sledge',\n",
    "    'Taylor Swift', 'Mac Miller', 'Red Hot Chili Peppers', 'The Weeknd',\n",
    "    'Fleetwood Mac', 'Wiz Khalifa', 'Lady Gaga', 'LCD Soundsystem'\n",
    "]"
   ]
  },
  {
   "cell_type": "markdown",
   "metadata": {},
   "source": [
    "* Created a dictionary containing all the artists and their songs from the spotify dataframe."
   ]
  },
  {
   "cell_type": "code",
   "execution_count": 15,
   "metadata": {},
   "outputs": [],
   "source": [
    "artist_dict = artist_song_dict(artists, spotify)"
   ]
  },
  {
   "cell_type": "markdown",
   "metadata": {},
   "source": [
    "*The dictionary I created looked something like this:*\n",
    "\n",
    "```python\n",
    "pp = pprint.PrettyPrinter(depth=6)\n",
    "pp.pprint(artist_dict)\n",
    "\n",
    "{'A$AP Rocky': ['Better Things',\n",
    "                'Canal St.',\n",
    "                'Sundress',\n",
    "                'West Side Highway',\n",
    "                'Fashion Killa',\n",
    "                'Wavybone',\n",
    "                'Tony Tone',\n",
    "                'Phoenix',\n",
    "                'Back Home',\n",
    "                'A$AP Forever',\n",
    "                'Holy Ghost',\n",
    "                'Jukebox Joints',\n",
    "                'Kids Turned Out Fine',\n",
    "                'Goldie',\n",
    "                etc...],\n",
    " 'Adele': ['Love in the Dark',\n",
    "           'Set Fire to the Rain',\n",
    "           'Make You Feel My Love',\n",
    "           'Hiding My Heart',\n",
    "           'Crazy For You',\n",
    "           'Rolling in the Deep',\n",
    "           \"Don't You Remember\",\n",
    "           'Daydreamer',\n",
    "           'Skyfall - Full Length',\n",
    "           'Send My Love (To Your New Lover)',\n",
    "           'Melt My Heart To Stone',\n",
    "           'Hello',\n",
    "           'Lovesong',\n",
    "           'Take It All',\n",
    "           'Sweetest Devotion',\n",
    "           'Someone Like You',\n",
    "           etc...],\n",
    "           etc...}```"
   ]
  },
  {
   "cell_type": "code",
   "execution_count": 16,
   "metadata": {},
   "outputs": [
    {
     "data": {
      "text/plain": [
       "dict_keys(['John Legend', 'Adele', 'Frank Ocean', 'Aretha Franklin', 'Amy Winehouse', 'The Rolling Stones', 'Led Zeppelin', 'Arctic Monkeys', 'The Beatles', 'Queen', 'Fall Out Boy', 'Tame Impala', 'Beach House', 'Kings of Leon', 'Radiohead', 'Red Hot Chilli Peppers', 'Gorillaz', 'Linkin Park', 'The Black Keys', 'Slipknot', 'Metallica', 'Korn', 'Nirvana', 'Foo Fighters', 'The Neighborhood', 'The Weeknd', 'Kayne West', 'Beyoncé', 'Rihanna', 'Kendrick Lamar', 'Florence & The Machine', 'Tyler, The Creator', 'A$AP Rocky', 'Lil Wayne', 'System Of A Down', 'Passion Pit', 'Caribou', 'Twin Shadow', 'HAIM', 'Sister Sledge', 'Taylor Swift', 'Mac Miller', 'Red Hot Chili Peppers', 'Fleetwood Mac', 'Wiz Khalifa', 'Lady Gaga', 'LCD Soundsystem'])"
      ]
     },
     "execution_count": 16,
     "metadata": {},
     "output_type": "execute_result"
    }
   ],
   "source": [
    "artist_dict.keys()"
   ]
  },
  {
   "cell_type": "markdown",
   "metadata": {},
   "source": [
    "**API call from Genius to gather  song information and webscraping with BeautifulSoup:**"
   ]
  },
  {
   "cell_type": "markdown",
   "metadata": {},
   "source": [
    "My initial aim was to use the Genius' API to retrieve my desired artists' songs as the Kaggle dataset gave me a limitation on which songs were available to me (still plenty). \n",
    "\n",
    "My rigorous reseach through Genius' API documentation (https://docs.genius.com/), made me realise that a single API call per artist retrieving ONLY my desired songs (GET /artists/:id/songs) was not possible. The issue was that also songs that were written, produced or merely featuring the artist were returned which made the JSON data hard to navigate.\n",
    "Then I decided to do API calls requesting multiple songs in one go. Neverthless, this is not possible as their API system only allows for singular songs to be within their song API (GET /songs/:id).\n",
    "This was going to force me to hit their server for each song, I had selected, instead of retrieving all my information at once.\n",
    "Unfortunately, I also got aware that the lyrics themselves were not available via the API as the rights to the lyrics are held by the artists. This is paradox as Genius literally displays the lyrics on the website.\n",
    "\n",
    "I made the attempt to scrap the lyrics directly from the website using the information from my artist dictionary (artist_dict):\n",
    "\n",
    "\n",
    "\n",
    "```python\n",
    "\n",
    "import re\n",
    "import unidecode\n",
    "from tqdm import tqdm\n",
    "from time import sleep\n",
    "from random import randint\n",
    "#pip install unidecode\n",
    "song_titles = []\n",
    "song_artists = []\n",
    "releases = []\n",
    "lyr = []\n",
    "\n",
    "p = re.compile('@|$|\\.|\\(|\\)')\n",
    "\n",
    "for key in artist_dict.keys():\n",
    "    for song_title in tqdm(artist_dict[key]):\n",
    "        sleep(randint(2, 7))\n",
    "\n",
    "        song = p.sub(\n",
    "            '',\n",
    "            unidecode.unidecode(\n",
    "                song_title.replace(' ', '-').replace('\\'', '').replace(\n",
    "                    '&', 'and').replace('$', '')))\n",
    "        artist = p.sub(\n",
    "            '',\n",
    "            unidecode.unidecode(\n",
    "                key.replace(' ',\n",
    "                            '-').replace('\\'',\n",
    "                                         '').replace('&',\n",
    "                                                     'and').replace('$', '')))\n",
    "        song_url = 'https://genius.com/' + artist + '-' + song + '-lyrics'\n",
    "\n",
    "        song_titles.append(song_title)\n",
    "        song_artists.append(key)\n",
    "        #releases.append(release)\n",
    "        lyr.append(scrap_song_url(song_url))\n",
    "\n",
    "lyrics_df = pd.DataFrame({\n",
    "    'track_name': song_titles,\n",
    "    'artist_name': song_artists,\n",
    "    'lyrics': lyr\n",
    "})\n",
    "\n",
    "\n",
    "\n",
    "```\n",
    "\n",
    "\n",
    "\n",
    "Unfortunately, also this was going to be challenging as each URL was not in the same format as expected, hence to my knowledge not easily callable. \n",
    "\n",
    "Desperate times call for desperate measures, so I discovered lyricsgenius by johnwmillr, an Genius API wrapper (https://github.com/johnwmillr/LyricsGenius).\n",
    "Thank god for smart developers!\n",
    "\n",
    "All I had to do is setup lyricsgenius by running\n",
    "\n",
    "    pip install lyricsgenius \n",
    "\n",
    "in my Terminal's command line/bash with the directory set to where I wanted the folder to appear.\n",
    "\n",
    "Going through his documentation throughly, I discovered that he used the same approach I attempted but with one difference. He made the API calls' JSON more navigatable and was able to retrieve the song URL each time to then scrap the lyrics with BeautifulSoup via this URL.\n",
    "Thank you John Miller !\n",
    "\n",
    "Now I only had to import lyrics genius into my jupyter notebook and insert my genius TOKEN (provided from my Genius Developer Account).\n",
    "\n",
    "\n",
    "```python\n",
    "\n",
    "import lyricsgenius as genius\n",
    "api = genius.Genius(client_access_token='XXXXXXXXXXXXXXXXXXXXXXXXXXXXXXXXXXXXXXXXXXXXXXXXXXXXXXXXXXXXXXXX')\n",
    "song = api.search_song({song_title}, {artist_name})\n",
    "\n",
    "\n",
    "```\n",
    "\n",
    "\n",
    "**Please see below how I populated my table for my lyrics_df (now as an SQL table: 'genius_lyrics'):**"
   ]
  },
  {
   "cell_type": "markdown",
   "metadata": {
    "scrolled": true
   },
   "source": [
    "```python\n",
    "def genius_lyrics_dataframe(artist_dict):\n",
    "    song_titles = []\n",
    "    song_artists = []\n",
    "    releases = []\n",
    "    uris = []\n",
    "    urls = []\n",
    "    lyrs = []\n",
    "    for key in artist_dict.keys():\n",
    "        for song_title in tqdm(artist_dict[key]):\n",
    "            try:\n",
    "                song =api.search_song(song_title, key)\n",
    "\n",
    "                song_json = song.to_json()\n",
    "\n",
    "                try:\n",
    "                    song_titles.append(song.title)\n",
    "                except:\n",
    "                    song_titles.append(np.nan)\n",
    "\n",
    "                try:\n",
    "                    song_artists.append(song.artist)\n",
    "                except:\n",
    "                    song_artists.append(np.nan)\n",
    "\n",
    "                try:\n",
    "                    releases.append(song.year)\n",
    "                except:\n",
    "                    releases.append(np.nan)\n",
    "\n",
    "                uri = np.nan\n",
    "                for i in range(0,len(song.media)):\n",
    "                    if 'native_uri' in song.media[i].keys():\n",
    "                        uri = song.media[i]['native_uri']\n",
    "                    else:\n",
    "                        pass\n",
    "                uris.append(uri)\n",
    "\n",
    "\n",
    "                try:\n",
    "                    urls.append(song_json['songs'][0]['url'])\n",
    "                except:\n",
    "                    urls.append(np.nan)\n",
    "\n",
    "                try:\n",
    "                    lyrs.append(song.lyrics)\n",
    "                except:\n",
    "                    lyrs.append(np.nan)\n",
    "            except:\n",
    "                pass\n",
    "            \n",
    "    return pd.DataFrame.from_dict({'track_name': song_titles, \n",
    "                                   'artist_name': song_artists, \n",
    "                                   'release_year': releases, \n",
    "                                    'spotify_uri': uris,\n",
    "                                   'genius_url':urls, \n",
    "                                   'lyrics':lyrs})```"
   ]
  },
  {
   "cell_type": "markdown",
   "metadata": {},
   "source": [
    "* API-mined and scraped the lyrics utilising the genius_lyrics_dataframe( ) function, returning a dataframe."
   ]
  },
  {
   "cell_type": "code",
   "execution_count": 17,
   "metadata": {},
   "outputs": [],
   "source": [
    "lyrics_df = genius_lyrics_dataframe(artist_dict)"
   ]
  },
  {
   "cell_type": "markdown",
   "metadata": {},
   "source": [
    "* Searched for missing songs in the retrieved data by running the missing_songs( ) function, as songs are skipped if the server is temporarily timing out."
   ]
  },
  {
   "cell_type": "code",
   "execution_count": 18,
   "metadata": {},
   "outputs": [],
   "source": [
    "missing_songs_dict = missing_songs(artists, artist_dict, lyrics_df)"
   ]
  },
  {
   "cell_type": "markdown",
   "metadata": {},
   "source": [
    "* Repeated the data collection with the genius_lyrics_dataframe( ) function passing the missing_songs_dict, which returned another dataframe."
   ]
  },
  {
   "cell_type": "code",
   "execution_count": 19,
   "metadata": {},
   "outputs": [],
   "source": [
    "missing_tracks_df = genius_lyrics_dataframe(missing_songs_dict)"
   ]
  },
  {
   "cell_type": "markdown",
   "metadata": {},
   "source": [
    "* Joined the two dataframes."
   ]
  },
  {
   "cell_type": "code",
   "execution_count": 20,
   "metadata": {},
   "outputs": [],
   "source": [
    "joined_df = pd.concat([lyrics_df, missing_tracks_df], axis=0).sort_values('artist_name')"
   ]
  },
  {
   "cell_type": "markdown",
   "metadata": {},
   "source": [
    "* Ran the missing_songs( ) function again."
   ]
  },
  {
   "cell_type": "code",
   "execution_count": 21,
   "metadata": {},
   "outputs": [],
   "source": [
    "missing_songs_dict2 = missing_songs(artists, artist_dict, joined_df)"
   ]
  },
  {
   "cell_type": "markdown",
   "metadata": {},
   "source": [
    "* Retrieved more songs using the genius_lyrics_dataframe( ) function, passing it the new dictionary of missing songs."
   ]
  },
  {
   "cell_type": "code",
   "execution_count": 22,
   "metadata": {},
   "outputs": [],
   "source": [
    "missing_tracks_df2 = genius_lyrics_dataframe(missing_songs_dict2)"
   ]
  },
  {
   "cell_type": "markdown",
   "metadata": {},
   "source": [
    "* Concatinated the dataframes again."
   ]
  },
  {
   "cell_type": "code",
   "execution_count": 23,
   "metadata": {},
   "outputs": [],
   "source": [
    "joined_df = pd.concat([joined_df, missing_tracks_df2], axis=0).sort_values('artist_name')"
   ]
  },
  {
   "cell_type": "markdown",
   "metadata": {},
   "source": [
    "**Saving data to .csv file**"
   ]
  },
  {
   "cell_type": "code",
   "execution_count": 24,
   "metadata": {},
   "outputs": [],
   "source": [
    "joined_df.to_csv('lyrics_df.csv', index=False)"
   ]
  },
  {
   "cell_type": "code",
   "execution_count": 25,
   "metadata": {},
   "outputs": [],
   "source": [
    "spotify.to_csv('Spotify_Kaggle_noduplicates.csv', index=False)"
   ]
  }
 ],
 "metadata": {
  "kernelspec": {
   "display_name": "Python 3",
   "language": "python",
   "name": "python3"
  },
  "language_info": {
   "codemirror_mode": {
    "name": "ipython",
    "version": 3
   },
   "file_extension": ".py",
   "mimetype": "text/x-python",
   "name": "python",
   "nbconvert_exporter": "python",
   "pygments_lexer": "ipython3",
   "version": "3.7.4"
  },
  "toc": {
   "base_numbering": 1,
   "nav_menu": {},
   "number_sections": true,
   "sideBar": true,
   "skip_h1_title": true,
   "title_cell": "Table of Contents",
   "title_sidebar": "Contents",
   "toc_cell": true,
   "toc_position": {},
   "toc_section_display": true,
   "toc_window_display": true
  }
 },
 "nbformat": 4,
 "nbformat_minor": 2
}
